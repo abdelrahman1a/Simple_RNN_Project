{
 "cells": [
  {
   "cell_type": "code",
   "execution_count": 17,
   "id": "d8142862",
   "metadata": {},
   "outputs": [],
   "source": [
    "import numpy as np\n",
    "import tensorflow as tf\n",
    "from tensorflow.keras.datasets import imdb\n",
    "from tensorflow.keras.preprocessing import sequence\n",
    "from tensorflow.keras.models import load_model"
   ]
  },
  {
   "cell_type": "code",
   "execution_count": 18,
   "metadata": {},
   "outputs": [],
   "source": [
    "## Load the imdb word index\n",
    "word_index = imdb.get_word_index()\n",
    "reverse_word_index = {value: key for (key, value) in word_index.items()}"
   ]
  },
  {
   "cell_type": "code",
   "execution_count": 19,
   "id": "545ae78e",
   "metadata": {},
   "outputs": [
    {
     "name": "stderr",
     "output_type": "stream",
     "text": [
      "WARNING:absl:Compiled the loaded model, but the compiled metrics have yet to be built. `model.compile_metrics` will be empty until you train or evaluate the model.\n"
     ]
    },
    {
     "data": {
      "text/html": [
       "<pre style=\"white-space:pre;overflow-x:auto;line-height:normal;font-family:Menlo,'DejaVu Sans Mono',consolas,'Courier New',monospace\"><span style=\"font-weight: bold\">Model: \"sequential\"</span>\n",
       "</pre>\n"
      ],
      "text/plain": [
       "\u001b[1mModel: \"sequential\"\u001b[0m\n"
      ]
     },
     "metadata": {},
     "output_type": "display_data"
    },
    {
     "data": {
      "text/html": [
       "<pre style=\"white-space:pre;overflow-x:auto;line-height:normal;font-family:Menlo,'DejaVu Sans Mono',consolas,'Courier New',monospace\">┏━━━━━━━━━━━━━━━━━━━━━━━━━━━━━━━━━┳━━━━━━━━━━━━━━━━━━━━━━━━┳━━━━━━━━━━━━━━━┓\n",
       "┃<span style=\"font-weight: bold\"> Layer (type)                    </span>┃<span style=\"font-weight: bold\"> Output Shape           </span>┃<span style=\"font-weight: bold\">       Param # </span>┃\n",
       "┡━━━━━━━━━━━━━━━━━━━━━━━━━━━━━━━━━╇━━━━━━━━━━━━━━━━━━━━━━━━╇━━━━━━━━━━━━━━━┩\n",
       "│ embedding (<span style=\"color: #0087ff; text-decoration-color: #0087ff\">Embedding</span>)           │ (<span style=\"color: #00d7ff; text-decoration-color: #00d7ff\">None</span>, <span style=\"color: #00af00; text-decoration-color: #00af00\">500</span>, <span style=\"color: #00af00; text-decoration-color: #00af00\">128</span>)       │     <span style=\"color: #00af00; text-decoration-color: #00af00\">1,280,000</span> │\n",
       "├─────────────────────────────────┼────────────────────────┼───────────────┤\n",
       "│ simple_rnn (<span style=\"color: #0087ff; text-decoration-color: #0087ff\">SimpleRNN</span>)          │ (<span style=\"color: #00d7ff; text-decoration-color: #00d7ff\">None</span>, <span style=\"color: #00af00; text-decoration-color: #00af00\">128</span>)            │        <span style=\"color: #00af00; text-decoration-color: #00af00\">32,896</span> │\n",
       "├─────────────────────────────────┼────────────────────────┼───────────────┤\n",
       "│ dense (<span style=\"color: #0087ff; text-decoration-color: #0087ff\">Dense</span>)                   │ (<span style=\"color: #00d7ff; text-decoration-color: #00d7ff\">None</span>, <span style=\"color: #00af00; text-decoration-color: #00af00\">1</span>)              │           <span style=\"color: #00af00; text-decoration-color: #00af00\">129</span> │\n",
       "└─────────────────────────────────┴────────────────────────┴───────────────┘\n",
       "</pre>\n"
      ],
      "text/plain": [
       "┏━━━━━━━━━━━━━━━━━━━━━━━━━━━━━━━━━┳━━━━━━━━━━━━━━━━━━━━━━━━┳━━━━━━━━━━━━━━━┓\n",
       "┃\u001b[1m \u001b[0m\u001b[1mLayer (type)                   \u001b[0m\u001b[1m \u001b[0m┃\u001b[1m \u001b[0m\u001b[1mOutput Shape          \u001b[0m\u001b[1m \u001b[0m┃\u001b[1m \u001b[0m\u001b[1m      Param #\u001b[0m\u001b[1m \u001b[0m┃\n",
       "┡━━━━━━━━━━━━━━━━━━━━━━━━━━━━━━━━━╇━━━━━━━━━━━━━━━━━━━━━━━━╇━━━━━━━━━━━━━━━┩\n",
       "│ embedding (\u001b[38;5;33mEmbedding\u001b[0m)           │ (\u001b[38;5;45mNone\u001b[0m, \u001b[38;5;34m500\u001b[0m, \u001b[38;5;34m128\u001b[0m)       │     \u001b[38;5;34m1,280,000\u001b[0m │\n",
       "├─────────────────────────────────┼────────────────────────┼───────────────┤\n",
       "│ simple_rnn (\u001b[38;5;33mSimpleRNN\u001b[0m)          │ (\u001b[38;5;45mNone\u001b[0m, \u001b[38;5;34m128\u001b[0m)            │        \u001b[38;5;34m32,896\u001b[0m │\n",
       "├─────────────────────────────────┼────────────────────────┼───────────────┤\n",
       "│ dense (\u001b[38;5;33mDense\u001b[0m)                   │ (\u001b[38;5;45mNone\u001b[0m, \u001b[38;5;34m1\u001b[0m)              │           \u001b[38;5;34m129\u001b[0m │\n",
       "└─────────────────────────────────┴────────────────────────┴───────────────┘\n"
      ]
     },
     "metadata": {},
     "output_type": "display_data"
    },
    {
     "data": {
      "text/html": [
       "<pre style=\"white-space:pre;overflow-x:auto;line-height:normal;font-family:Menlo,'DejaVu Sans Mono',consolas,'Courier New',monospace\"><span style=\"font-weight: bold\"> Total params: </span><span style=\"color: #00af00; text-decoration-color: #00af00\">1,313,027</span> (5.01 MB)\n",
       "</pre>\n"
      ],
      "text/plain": [
       "\u001b[1m Total params: \u001b[0m\u001b[38;5;34m1,313,027\u001b[0m (5.01 MB)\n"
      ]
     },
     "metadata": {},
     "output_type": "display_data"
    },
    {
     "data": {
      "text/html": [
       "<pre style=\"white-space:pre;overflow-x:auto;line-height:normal;font-family:Menlo,'DejaVu Sans Mono',consolas,'Courier New',monospace\"><span style=\"font-weight: bold\"> Trainable params: </span><span style=\"color: #00af00; text-decoration-color: #00af00\">1,313,025</span> (5.01 MB)\n",
       "</pre>\n"
      ],
      "text/plain": [
       "\u001b[1m Trainable params: \u001b[0m\u001b[38;5;34m1,313,025\u001b[0m (5.01 MB)\n"
      ]
     },
     "metadata": {},
     "output_type": "display_data"
    },
    {
     "data": {
      "text/html": [
       "<pre style=\"white-space:pre;overflow-x:auto;line-height:normal;font-family:Menlo,'DejaVu Sans Mono',consolas,'Courier New',monospace\"><span style=\"font-weight: bold\"> Non-trainable params: </span><span style=\"color: #00af00; text-decoration-color: #00af00\">0</span> (0.00 B)\n",
       "</pre>\n"
      ],
      "text/plain": [
       "\u001b[1m Non-trainable params: \u001b[0m\u001b[38;5;34m0\u001b[0m (0.00 B)\n"
      ]
     },
     "metadata": {},
     "output_type": "display_data"
    },
    {
     "data": {
      "text/html": [
       "<pre style=\"white-space:pre;overflow-x:auto;line-height:normal;font-family:Menlo,'DejaVu Sans Mono',consolas,'Courier New',monospace\"><span style=\"font-weight: bold\"> Optimizer params: </span><span style=\"color: #00af00; text-decoration-color: #00af00\">2</span> (12.00 B)\n",
       "</pre>\n"
      ],
      "text/plain": [
       "\u001b[1m Optimizer params: \u001b[0m\u001b[38;5;34m2\u001b[0m (12.00 B)\n"
      ]
     },
     "metadata": {},
     "output_type": "display_data"
    }
   ],
   "source": [
    "# Load the pretrained model with Relu activation function\n",
    "model = load_model('RNN_imdb.h5')\n",
    "model.summary()"
   ]
  },
  {
   "cell_type": "code",
   "execution_count": 20,
   "id": "c6e39933",
   "metadata": {},
   "outputs": [
    {
     "data": {
      "text/plain": [
       "[array([[-0.69791794, -0.84888333, -0.74423033, ..., -0.9050488 ,\n",
       "          0.391979  , -0.748375  ],\n",
       "        [-0.03887082,  0.0154008 , -0.04095113, ..., -0.01659377,\n",
       "         -0.02438029,  0.04279484],\n",
       "        [ 0.07469119,  0.03627514, -0.02323495, ..., -0.03815437,\n",
       "         -0.06822272,  0.06506358],\n",
       "        ...,\n",
       "        [-0.07365178,  0.04670017, -0.0259331 , ..., -0.01621335,\n",
       "         -0.02429475,  0.06972715],\n",
       "        [ 0.00137313, -0.05288263, -0.01000799, ...,  0.03247676,\n",
       "          0.03488153,  0.02696982],\n",
       "        [-0.11388556, -0.0051748 , -0.10734121, ..., -0.1196527 ,\n",
       "          0.07138819, -0.05701979]], dtype=float32),\n",
       " array([[-0.04495446, -0.12015397, -0.16393675, ...,  0.02182434,\n",
       "          0.00293761, -0.0651404 ],\n",
       "        [-0.06143763,  0.05664199,  0.15590538, ...,  0.14962009,\n",
       "          0.01466485,  0.07106662],\n",
       "        [ 0.03776889, -0.10940912, -0.04849781, ...,  0.02255113,\n",
       "          0.11029017, -0.10156803],\n",
       "        ...,\n",
       "        [ 0.03750619,  0.08041362,  0.1939347 , ...,  0.04099237,\n",
       "          0.04590123, -0.05832938],\n",
       "        [ 0.09790087, -0.03787815,  0.12755083, ...,  0.02013107,\n",
       "          0.19100699, -0.0031143 ],\n",
       "        [ 0.20422672,  0.06412046,  0.179707  , ...,  0.05836328,\n",
       "         -0.07782577, -0.11406454]], dtype=float32),\n",
       " array([[-0.11237344,  0.10876574, -0.05857999, ...,  0.0095526 ,\n",
       "         -0.03922958,  0.087136  ],\n",
       "        [-0.07884359,  0.04400941, -0.01718752, ..., -0.10340078,\n",
       "         -0.07165675, -0.08304189],\n",
       "        [-0.01329735, -0.0374965 ,  0.01500862, ...,  0.07238454,\n",
       "          0.08748815,  0.08929612],\n",
       "        ...,\n",
       "        [-0.04630166, -0.00291537, -0.02418657, ..., -0.08938976,\n",
       "         -0.13834843, -0.23874451],\n",
       "        [ 0.17514384, -0.15545997, -0.02054022, ..., -0.18531534,\n",
       "         -0.06238803,  0.14086793],\n",
       "        [-0.04574643, -0.14210232, -0.07907657, ...,  0.01311439,\n",
       "         -0.07647409,  0.14492339]], dtype=float32),\n",
       " array([-0.05243013, -0.05546341,  0.01492998, -0.00643106, -0.02403752,\n",
       "         0.01326925,  0.00835802,  0.04748599, -0.0687548 , -0.07490926,\n",
       "        -0.04018391,  0.00477837, -0.06257845, -0.02838511,  0.01724427,\n",
       "         0.03629111, -0.05459902,  0.03183504, -0.00742511, -0.05406095,\n",
       "        -0.063486  , -0.07961944,  0.00931861, -0.03982399, -0.03044812,\n",
       "         0.02890651, -0.06657115, -0.00401594, -0.0196758 ,  0.0204131 ,\n",
       "        -0.07652941, -0.01751231, -0.01194547, -0.02085239, -0.02934905,\n",
       "        -0.04568046, -0.05166456, -0.05799967, -0.01019918,  0.10717715,\n",
       "        -0.04487234,  0.02109906, -0.01673418,  0.03180895, -0.03972267,\n",
       "        -0.00538864,  0.00936198,  0.07471316,  0.02074945, -0.0180765 ,\n",
       "        -0.04165933, -0.01860389,  0.00179852, -0.06435578, -0.0280121 ,\n",
       "        -0.03483802, -0.08566563, -0.04595795, -0.07636987,  0.03669208,\n",
       "        -0.04627071, -0.00819946, -0.00594816,  0.03926378, -0.04765031,\n",
       "         0.0830587 , -0.0014189 , -0.02190966,  0.02092401, -0.03671499,\n",
       "        -0.06321104, -0.00312686, -0.02784367, -0.01015297, -0.05228095,\n",
       "        -0.02935694, -0.04579017,  0.00469622, -0.02071766, -0.0088722 ,\n",
       "        -0.04895588,  0.0091071 , -0.04840894, -0.03817229,  0.02952451,\n",
       "         0.01852421, -0.04860682, -0.01063867,  0.01076553,  0.08017822,\n",
       "         0.06681155,  0.01654779,  0.08782449, -0.02485924,  0.02898076,\n",
       "        -0.00691756, -0.03507449,  0.01279445,  0.02540886, -0.03032412,\n",
       "         0.00043652,  0.03994765,  0.01043225,  0.04870431, -0.05413596,\n",
       "        -0.03430223,  0.03392794, -0.06477197,  0.02313798, -0.01682957,\n",
       "         0.03695183, -0.00029074,  0.02775159, -0.06903017, -0.04627254,\n",
       "        -0.05490607, -0.00962413, -0.0397669 , -0.02569506,  0.00613595,\n",
       "        -0.06233052,  0.0439639 , -0.0620311 ,  0.05700257,  0.02215923,\n",
       "        -0.03596751,  0.02665204,  0.03119965], dtype=float32),\n",
       " array([[ 0.12823315],\n",
       "        [ 0.00122133],\n",
       "        [ 0.16207758],\n",
       "        [ 0.07549104],\n",
       "        [-0.16987585],\n",
       "        [ 0.17885257],\n",
       "        [ 0.15093502],\n",
       "        [ 0.1572966 ],\n",
       "        [ 0.22458678],\n",
       "        [ 0.06821876],\n",
       "        [ 0.15715949],\n",
       "        [ 0.28271288],\n",
       "        [ 0.449369  ],\n",
       "        [ 0.16430318],\n",
       "        [-0.14227417],\n",
       "        [ 0.46725002],\n",
       "        [-0.31380197],\n",
       "        [-0.1339839 ],\n",
       "        [-0.0792273 ],\n",
       "        [ 0.15287296],\n",
       "        [ 0.26680815],\n",
       "        [-0.21134335],\n",
       "        [-0.5331057 ],\n",
       "        [-0.223467  ],\n",
       "        [ 0.1637436 ],\n",
       "        [-0.20799923],\n",
       "        [-0.23126327],\n",
       "        [ 0.02030523],\n",
       "        [ 0.31784526],\n",
       "        [ 0.05672487],\n",
       "        [ 0.19901465],\n",
       "        [-0.06373522],\n",
       "        [ 0.13635676],\n",
       "        [-0.29334044],\n",
       "        [ 0.17542654],\n",
       "        [ 0.1514392 ],\n",
       "        [-0.04166236],\n",
       "        [-0.00578859],\n",
       "        [-0.07553785],\n",
       "        [-0.11638311],\n",
       "        [ 0.13738576],\n",
       "        [ 0.21506491],\n",
       "        [ 0.5554023 ],\n",
       "        [ 0.2714075 ],\n",
       "        [-0.05501745],\n",
       "        [-0.06864621],\n",
       "        [ 0.1611101 ],\n",
       "        [ 0.22464606],\n",
       "        [-0.13926214],\n",
       "        [ 0.1202805 ],\n",
       "        [ 0.01399711],\n",
       "        [ 0.18697117],\n",
       "        [-0.20894472],\n",
       "        [ 0.05973176],\n",
       "        [ 0.08983736],\n",
       "        [ 0.12445498],\n",
       "        [-0.11467788],\n",
       "        [-0.03636571],\n",
       "        [ 0.12425833],\n",
       "        [-0.10748408],\n",
       "        [-0.04024029],\n",
       "        [ 0.06337255],\n",
       "        [ 0.2158623 ],\n",
       "        [ 0.38715628],\n",
       "        [ 0.19804028],\n",
       "        [-0.17932305],\n",
       "        [-0.16586389],\n",
       "        [-0.24194045],\n",
       "        [ 0.27314118],\n",
       "        [-0.27599394],\n",
       "        [-0.08669142],\n",
       "        [ 0.1942125 ],\n",
       "        [-0.37140962],\n",
       "        [ 0.13669625],\n",
       "        [ 0.09516113],\n",
       "        [-0.04552135],\n",
       "        [-0.2580733 ],\n",
       "        [-0.3810859 ],\n",
       "        [ 0.1440932 ],\n",
       "        [-0.39176083],\n",
       "        [ 0.1781958 ],\n",
       "        [ 0.28455877],\n",
       "        [-0.12854427],\n",
       "        [ 0.22740808],\n",
       "        [-0.0985723 ],\n",
       "        [ 0.20868391],\n",
       "        [-0.01061594],\n",
       "        [ 0.13714968],\n",
       "        [-0.22464854],\n",
       "        [-0.11420643],\n",
       "        [ 0.00440352],\n",
       "        [ 0.12171861],\n",
       "        [-0.02362313],\n",
       "        [ 0.12759681],\n",
       "        [ 0.26641223],\n",
       "        [ 0.05406052],\n",
       "        [ 0.45309666],\n",
       "        [-0.18874732],\n",
       "        [-0.12249547],\n",
       "        [ 0.1873539 ],\n",
       "        [-0.12081404],\n",
       "        [ 0.36724016],\n",
       "        [ 0.29915994],\n",
       "        [-0.1428924 ],\n",
       "        [ 0.05274156],\n",
       "        [ 0.06662536],\n",
       "        [ 0.10161314],\n",
       "        [ 0.03662399],\n",
       "        [ 0.14897685],\n",
       "        [ 0.03216084],\n",
       "        [-0.18377101],\n",
       "        [ 0.24757881],\n",
       "        [ 0.16652596],\n",
       "        [-0.11799999],\n",
       "        [ 0.11642236],\n",
       "        [ 0.18773153],\n",
       "        [ 0.24472418],\n",
       "        [ 0.16193789],\n",
       "        [ 0.115868  ],\n",
       "        [ 0.09343228],\n",
       "        [ 0.19240625],\n",
       "        [-0.08342753],\n",
       "        [ 0.03816058],\n",
       "        [-0.06517319],\n",
       "        [ 0.0249996 ],\n",
       "        [-0.19912444],\n",
       "        [ 0.30125985],\n",
       "        [-0.05462892]], dtype=float32),\n",
       " array([0.36135128], dtype=float32)]"
      ]
     },
     "execution_count": 20,
     "metadata": {},
     "output_type": "execute_result"
    }
   ],
   "source": [
    "model.get_weights()"
   ]
  },
  {
   "cell_type": "code",
   "execution_count": 21,
   "id": "e5538904",
   "metadata": {},
   "outputs": [],
   "source": [
    "# Function to decode Revies\n",
    "def decode_review(text):\n",
    "    return ' '.join([reverse_word_index.get(i - 3, '?') for i in text])\n",
    "\n",
    "\n",
    "# Function to preprocess input text\n",
    "def preprocess_input(text):\n",
    "    words = text.lower().split()\n",
    "    encoded_review = [word_index.get(word, 2) + 3 for word in words]\n",
    "    padded_review = sequence.pad_sequences([encoded_review], maxlen=500)\n",
    "    return padded_review"
   ]
  },
  {
   "cell_type": "code",
   "execution_count": null,
   "id": "75bc74c0",
   "metadata": {},
   "outputs": [],
   "source": [
    "## Prediction function\n",
    "def predict_sentiment(review):\n",
    "    processed_review = preprocess_input(review)\n",
    "\n",
    "    prediction = model.predict(processed_review)\n",
    "\n",
    "    sentiment = 'positive' if prediction[0][0] > 0.5 else 'negative'\n",
    "\n",
    "    return sentiment , prediction[0][0]\n"
   ]
  },
  {
   "cell_type": "code",
   "execution_count": null,
   "id": "7bcce8e3",
   "metadata": {},
   "outputs": [
    {
     "name": "stdout",
     "output_type": "stream",
     "text": [
      "\u001b[1m1/1\u001b[0m \u001b[32m━━━━━━━━━━━━━━━━━━━━\u001b[0m\u001b[37m\u001b[0m \u001b[1m0s\u001b[0m 65ms/step\n",
      "Review: This movie was fantastic! The acting was great and the plot was thrilling.\n",
      "Sentiment: positive\n",
      "Prediction Score: 0.9123148918151855\n"
     ]
    }
   ],
   "source": [
    "# Step 4: User Input and Prediction\n",
    "# Example review for prediction\n",
    "example_review = \"Moview is very good and fantastic\"\n",
    "\n",
    "sentiment,score=predict_sentiment(example_review)\n",
    "\n",
    "print(f'Review: {example_review}')\n",
    "print(f'Sentiment: {sentiment}')\n",
    "print(f'Prediction Score: {score}')"
   ]
  },
  {
   "cell_type": "code",
   "execution_count": null,
   "id": "6d0301e3",
   "metadata": {},
   "outputs": [],
   "source": []
  }
 ],
 "metadata": {
  "kernelspec": {
   "display_name": "VRNN",
   "language": "python",
   "name": "python3"
  },
  "language_info": {
   "codemirror_mode": {
    "name": "ipython",
    "version": 3
   },
   "file_extension": ".py",
   "mimetype": "text/x-python",
   "name": "python",
   "nbconvert_exporter": "python",
   "pygments_lexer": "ipython3",
   "version": "3.12.0"
  }
 },
 "nbformat": 4,
 "nbformat_minor": 5
}
